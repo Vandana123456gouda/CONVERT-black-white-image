{
 "cells": [
  {
   "cell_type": "code",
   "execution_count": 7,
   "metadata": {},
   "outputs": [],
   "source": [
    "from PIL import Image\n",
    "\n",
    "\n",
    "# provide the image name or location. here you can even use a variable to store and assign name\n",
    "img = Image.open(\"van.jpg\") \n",
    "\n",
    "# here the image is converted to black & white\n",
    "img_bw = img.convert(\"L\")\n",
    "\n",
    "#image is saved to the current directory. here we can even assign you own name and location.\n",
    "img_bw.save(\"yydog-bw.jpg\")\n",
    "\n",
    "# show the converted image as output\n",
    "img_bw.show()"
   ]
  },
  {
   "cell_type": "code",
   "execution_count": null,
   "metadata": {},
   "outputs": [],
   "source": []
  }
 ],
 "metadata": {
  "kernelspec": {
   "display_name": "Python 3",
   "language": "python",
   "name": "python3"
  },
  "language_info": {
   "codemirror_mode": {
    "name": "ipython",
    "version": 3
   },
   "file_extension": ".py",
   "mimetype": "text/x-python",
   "name": "python",
   "nbconvert_exporter": "python",
   "pygments_lexer": "ipython3",
   "version": "3.7.1"
  }
 },
 "nbformat": 4,
 "nbformat_minor": 2
}
